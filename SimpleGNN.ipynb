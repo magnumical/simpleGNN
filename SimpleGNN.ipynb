{
 "cells": [
  {
   "cell_type": "markdown",
   "metadata": {},
   "source": [
    "#implementing simple GNN\n",
    "##### first I want to implement simple GCN to have good idea about the involvement of GNNs.\n",
    "\n",
    "I designed a simple, easy-to-understand and small dataset like zachary's karate club. We have 8 individuals in class, friendship cause an edge in our graph.\n",
    "As you know, each graph is made up by NODES and EDGES.\n",
    "For example:\n",
    "![Graph](graphn.png \"graphs\")\n",
    "\n",
    "We have 8 nodes and 18 edges.\n",
    "A matrix called Adjacency MATRIX reveals information about connection of each node to other nodes.\n",
    "In this example,this matrix is like:\n",
    "\n",
    "![adjancy](adjancy.png \"adjancy\")\n",
    "\n",
    "Adjacency is a $N \\times N$ matrix. N is number of nodes.\n",
    "We have DEGREE MATRIX too, which shows number of neighbours of each node. for example node 5 has 4 neighbours so its degree is 4.\n",
    "\n",
    "## what we're doing in GNN?\n",
    "Imagine that our problem is predicting which nodes will become friends?\n",
    "\n",
    "I'm diving into the discussion, if you want to read more and detailed follow this paper:\n",
    "\n",
    "SEMI-SUPERVISED CLASSIFICATION WITH GRAPH CONVOLUTIONAL NETWORKS by Thomas N. Kipf and Max Welling\n",
    "\n",
    "\n",
    "$$f(H^{(l)}, A) = \\sigma\\left( \\hat{D}^{-\\frac{1}{2}}\\hat{A}\\hat{D}^{-\\frac{1}{2}}H^{(l)}W^{(l)}\\right)$$\n",
    "\n",
    "which in this equation we have\n",
    "$\\hat{A} = A + I$ : $I$ is identity matrix\n",
    "\n",
    "$\\hat{D}$  is the diagonal node degree matrix of $\\hat{A}$\n",
    "\n",
    "${W}$ is layer-specific trainable weight matrix\n",
    "\n",
    "$H^{(l)}$ is the matrix of activations in the ${l}$-th layer: simply the values of i-th layer\n",
    "\n",
    "$\\sigma$ is activation function, i.e. ReLU.\n"
   ]
  },
  {
   "cell_type": "code",
   "execution_count": 1,
   "metadata": {},
   "outputs": [],
   "source": [
    "import torch\n",
    "import torch.nn as nn\n",
    "import torch.optim as optim\n",
    "import matplotlib.pyplot as plt\n",
    "%matplotlib notebook\n",
    "\n",
    "\n",
    "\n",
    "import networkx as nx\n",
    "\n",
    "import imageio\n",
    "from celluloid import Camera\n",
    "from IPython.display import HTML\n",
    "plt.rcParams['animation.ffmpeg_path'] = '/usr/local/bin/ffmpeg'"
   ]
  },
  {
   "cell_type": "code",
   "execution_count": 2,
   "metadata": {},
   "outputs": [],
   "source": [
    "class GCNConv(nn.Module):\n",
    "    def __init__(self, A, in_channels, out_channels):\n",
    "        super(GCNConv, self).__init__()\n",
    "        self.A_hat = A+torch.eye(A.size(0))\n",
    "        self.D     = torch.diag(torch.sum(A,1))\n",
    "        self.D     = self.D.inverse().sqrt()\n",
    "        #self.D     = self.D.pow(-0.5)\n",
    "        self.A_hat = torch.mm(torch.mm(self.D, self.A_hat), self.D)\n",
    "        self.W     = nn.Parameter(torch.rand(in_channels,out_channels, requires_grad=True))\n",
    "    \n",
    "    def forward(self, X):\n",
    "        out = torch.relu(torch.mm(torch.mm(self.A_hat, X), self.W))\n",
    "        return out\n",
    "class Net(torch.nn.Module):\n",
    "    def __init__(self,A, nfeat, nhid, nout):\n",
    "        super(Net, self).__init__()\n",
    "        self.conv1 = GCNConv(A,nfeat, nhid)\n",
    "        self.conv2 = GCNConv(A,nhid, nout)\n",
    "        \n",
    "    def forward(self,X):\n",
    "        H  = self.conv1(X)\n",
    "        H2 = self.conv2(H)\n",
    "        return H2"
   ]
  },
  {
   "cell_type": "code",
   "execution_count": 3,
   "metadata": {},
   "outputs": [],
   "source": [
    "data=torch.Tensor([[0,1,1,0,1,0,0,1],\n",
    "                   [1,0,1,0,0,1,1,0],\n",
    "                   [1,1,0,1,1,0,1,0],\n",
    "                   [0,0,1,0,1,0,1,1],\n",
    "                   [1,0,1,1,0,1,1,0],\n",
    "                   [0,1,0,0,1,0,0,1],\n",
    "                   [0,1,1,1,1,0,0,0],\n",
    "                   [1,0,0,1,0,1,0,0]\n",
    "                   ])\n",
    "                  \n",
    "    \n",
    "target=torch.tensor([0,-1,-1,-1,-1, -1, -1, 1])\n"
   ]
  },
  {
   "cell_type": "code",
   "execution_count": 4,
   "metadata": {},
   "outputs": [
    {
     "name": "stdout",
     "output_type": "stream",
     "text": [
      "Name: \n",
      "Type: Graph\n",
      "Number of nodes: 8\n",
      "Number of edges: 16\n",
      "Average degree:   4.0000\n"
     ]
    },
    {
     "data": {
      "image/png": "[encoded data removed]",
      "text/plain": [
       "<Figure size 432x288 with 1 Axes>"
      ]
     },
     "metadata": {
      "needs_background": "light"
     },
     "output_type": "display_data"
    }
   ],
   "source": [
    "graph = nx.Graph()\n",
    "\n",
    "\n",
    "for i in range (data.shape[0]):\n",
    "    graph.add_node(i)\n",
    "\n",
    "for i in range (data.shape[0]):\n",
    "    for j in range(data.shape[0]):\n",
    "        if data[i][j]==1:\n",
    "            graph.add_edge(i,j)  \n",
    "            \n",
    "nx.draw_networkx(graph)\n",
    "print(nx.info(graph))"
   ]
  },
  {
   "cell_type": "markdown",
   "metadata": {},
   "source": [
    "# problem?\n",
    "if node 0 and 7, split up which nodes advocate which person!\n",
    "\n",
    "In features MATRIX, you can value each friendship too. for example if (1,5) have sincere friendship, value it 10, etc."
   ]
  },
  {
   "cell_type": "code",
   "execution_count": 8,
   "metadata": {},
   "outputs": [],
   "source": [
    "\n",
    "#features=torch.Tensor([[10., 0., 0., 0., 0., 0., 0., 0.],\n",
    "#                       [0., 1., 0., 0., 0., 0., 0., 0.],\n",
    "#                       [0., 0., 1., 0., 0., 0., 0., 0.],\n",
    "#                       [0., 0., 0., 1., 0., 0., 0., 0.],\n",
    "#                       [0., 0., 0., 0., 1., 0., 0., 0.],\n",
    "#                       [0., 0., 0., 0., 0., 1., 0., 0.],\n",
    "#                       [0., 0., 0., 0., 0., 0., 1., 0.],\n",
    "#                       [0., 0., 0., 0., 0., 0., 0., 10.]\n",
    "#                       ])\n",
    "\n",
    "\n",
    "features=torch.Tensor([[10, 230, 147,0,0,0,0,0],\n",
    "                       [5, 52, 200,0,0,0,0,0],\n",
    "                       [3, 76, 260,0,0,0,0,0],\n",
    "                       [21, 42, 100,0,0,0,0,0],\n",
    "                       [0, 12, 16,0,0,0,0,0],\n",
    "                       [1, 330, 280,0,0,0,0,0],\n",
    "                       [33, 178, 15,0,0,0,0,0],\n",
    "                       [11, 90, 96,0,0,0,0,0]\n",
    "                       ])\n",
    "\n",
    "\n",
    "T=Net(data,features.size(0), 10, 2)\n",
    "\n",
    "#features=torch.eye(data.size(0))\n"
   ]
  },
  {
   "cell_type": "code",
   "execution_count": 6,
   "metadata": {},
   "outputs": [],
   "source": [
    "criterion = torch.nn.CrossEntropyLoss(ignore_index=-1)\n",
    "optimizer = optim.SGD(T.parameters(), lr=0.01, momentum=0.5)\n",
    "loss=criterion(T(features),target)"
   ]
  },
  {
   "cell_type": "code",
   "execution_count": 7,
   "metadata": {
    "scrolled": true
   },
   "outputs": [
    {
     "name": "stderr",
     "output_type": "stream",
     "text": [
      "MovieWriter ffmpeg unavailable.\n"
     ]
    },
    {
     "ename": "RuntimeError",
     "evalue": "Requested MovieWriter (ffmpeg) not available",
     "output_type": "error",
     "traceback": [
      "\u001b[1;31m---------------------------------------------------------------------------\u001b[0m",
      "\u001b[1;31mKeyError\u001b[0m                                  Traceback (most recent call last)",
      "\u001b[1;32m~\\Anaconda3\\lib\\site-packages\\matplotlib\\animation.py\u001b[0m in \u001b[0;36m__getitem__\u001b[1;34m(self, name)\u001b[0m\n\u001b[0;32m    169\u001b[0m         \u001b[1;32mtry\u001b[0m\u001b[1;33m:\u001b[0m\u001b[1;33m\u001b[0m\u001b[0m\n\u001b[1;32m--> 170\u001b[1;33m             \u001b[1;32mreturn\u001b[0m \u001b[0mself\u001b[0m\u001b[1;33m.\u001b[0m\u001b[0mavail\u001b[0m\u001b[1;33m[\u001b[0m\u001b[0mname\u001b[0m\u001b[1;33m]\u001b[0m\u001b[1;33m\u001b[0m\u001b[0m\n\u001b[0m\u001b[0;32m    171\u001b[0m         \u001b[1;32mexcept\u001b[0m \u001b[0mKeyError\u001b[0m\u001b[1;33m:\u001b[0m\u001b[1;33m\u001b[0m\u001b[0m\n",
      "\u001b[1;31mKeyError\u001b[0m: 'ffmpeg'",
      "\nDuring handling of the above exception, another exception occurred:\n",
      "\u001b[1;31mRuntimeError\u001b[0m                              Traceback (most recent call last)",
      "\u001b[1;32m<ipython-input-7-1dc4b7306d81>\u001b[0m in \u001b[0;36m<module>\u001b[1;34m()\u001b[0m\n\u001b[0;32m     22\u001b[0m \u001b[0manimation\u001b[0m \u001b[1;33m=\u001b[0m \u001b[0mcamera\u001b[0m\u001b[1;33m.\u001b[0m\u001b[0manimate\u001b[0m\u001b[1;33m(\u001b[0m\u001b[0mblit\u001b[0m\u001b[1;33m=\u001b[0m\u001b[1;32mFalse\u001b[0m\u001b[1;33m,\u001b[0m \u001b[0minterval\u001b[0m\u001b[1;33m=\u001b[0m\u001b[1;36m150\u001b[0m\u001b[1;33m)\u001b[0m\u001b[1;33m\u001b[0m\u001b[0m\n\u001b[0;32m     23\u001b[0m \u001b[0manimation\u001b[0m\u001b[1;33m.\u001b[0m\u001b[0msave\u001b[0m\u001b[1;33m(\u001b[0m\u001b[1;34m'./reza.gif'\u001b[0m\u001b[1;33m,\u001b[0m\u001b[0mwriter\u001b[0m\u001b[1;33m=\u001b[0m\u001b[1;34m'ffmpeg'\u001b[0m\u001b[1;33m,\u001b[0m  \u001b[0mfps\u001b[0m\u001b[1;33m=\u001b[0m\u001b[1;36m60\u001b[0m\u001b[1;33m)\u001b[0m\u001b[1;33m\u001b[0m\u001b[0m\n\u001b[1;32m---> 24\u001b[1;33m \u001b[0mHTML\u001b[0m\u001b[1;33m(\u001b[0m\u001b[0manimation\u001b[0m\u001b[1;33m.\u001b[0m\u001b[0mto_html5_video\u001b[0m\u001b[1;33m(\u001b[0m\u001b[1;33m)\u001b[0m\u001b[1;33m)\u001b[0m\u001b[1;33m\u001b[0m\u001b[0m\n\u001b[0m",
      "\u001b[1;32m~\\Anaconda3\\lib\\site-packages\\matplotlib\\animation.py\u001b[0m in \u001b[0;36mto_html5_video\u001b[1;34m(self, embed_limit)\u001b[0m\n\u001b[0;32m   1347\u001b[0m                 \u001b[1;31m# We create a writer manually so that we can get the\u001b[0m\u001b[1;33m\u001b[0m\u001b[1;33m\u001b[0m\u001b[0m\n\u001b[0;32m   1348\u001b[0m                 \u001b[1;31m# appropriate size for the tag\u001b[0m\u001b[1;33m\u001b[0m\u001b[1;33m\u001b[0m\u001b[0m\n\u001b[1;32m-> 1349\u001b[1;33m                 \u001b[0mWriter\u001b[0m \u001b[1;33m=\u001b[0m \u001b[0mwriters\u001b[0m\u001b[1;33m[\u001b[0m\u001b[0mrcParams\u001b[0m\u001b[1;33m[\u001b[0m\u001b[1;34m'animation.writer'\u001b[0m\u001b[1;33m]\u001b[0m\u001b[1;33m]\u001b[0m\u001b[1;33m\u001b[0m\u001b[0m\n\u001b[0m\u001b[0;32m   1350\u001b[0m                 writer = Writer(codec='h264',\n\u001b[0;32m   1351\u001b[0m                                 \u001b[0mbitrate\u001b[0m\u001b[1;33m=\u001b[0m\u001b[0mrcParams\u001b[0m\u001b[1;33m[\u001b[0m\u001b[1;34m'animation.bitrate'\u001b[0m\u001b[1;33m]\u001b[0m\u001b[1;33m,\u001b[0m\u001b[1;33m\u001b[0m\u001b[0m\n",
      "\u001b[1;32m~\\Anaconda3\\lib\\site-packages\\matplotlib\\animation.py\u001b[0m in \u001b[0;36m__getitem__\u001b[1;34m(self, name)\u001b[0m\n\u001b[0;32m    171\u001b[0m         \u001b[1;32mexcept\u001b[0m \u001b[0mKeyError\u001b[0m\u001b[1;33m:\u001b[0m\u001b[1;33m\u001b[0m\u001b[0m\n\u001b[0;32m    172\u001b[0m             raise RuntimeError(\n\u001b[1;32m--> 173\u001b[1;33m                 'Requested MovieWriter ({}) not available'.format(name))\n\u001b[0m\u001b[0;32m    174\u001b[0m \u001b[1;33m\u001b[0m\u001b[0m\n\u001b[0;32m    175\u001b[0m \u001b[1;33m\u001b[0m\u001b[0m\n",
      "\u001b[1;31mRuntimeError\u001b[0m: Requested MovieWriter (ffmpeg) not available"
     ]
    },
    {
     "data": {
      "image/png": "[encoded data removed]",
      "text/plain": [
       "<Figure size 432x288 with 1 Axes>"
      ]
     },
     "metadata": {
      "needs_background": "light"
     },
     "output_type": "display_data"
    }
   ],
   "source": [
    "# Plot animation using celluloid\n",
    "fig = plt.figure()\n",
    "camera = Camera(fig)\n",
    "\n",
    "for i in range(200):\n",
    "    optimizer.zero_grad()\n",
    "    loss=criterion(T(features), target)\n",
    "    loss.backward()\n",
    "    optimizer.step()\n",
    "    l=(T(features));\n",
    "\n",
    "    plt.scatter(l.detach().numpy()[:,0],\n",
    "                l.detach().numpy()[:,1],c=[0, 0, 0, 0 ,1 ,1 ,0, 1])\n",
    "    for i in range(l.shape[0]):\n",
    "        text_plot = plt.text(l[i,0], l[i,1], str(i+1))\n",
    "\n",
    "    camera.snap()\n",
    "\n",
    "    if i%20==0:\n",
    "        print(\"Cross Entropy Loss: =\", loss.item())\n",
    "\n",
    "animation = camera.animate(blit=False, interval=150)\n",
    "animation.save('./reza.gif',writer='ffmpeg',  fps=60)\n",
    "HTML(animation.to_html5_video())"
   ]
  },
  {
   "cell_type": "code",
   "execution_count": null,
   "metadata": {},
   "outputs": [],
   "source": []
  }
 ],
 "metadata": {
  "kernelspec": {
   "display_name": "Python 3",
   "language": "python",
   "name": "python3"
  },
  "language_info": {
   "codemirror_mode": {
    "name": "ipython",
    "version": 3
   },
   "file_extension": ".py",
   "mimetype": "text/x-python",
   "name": "python",
   "nbconvert_exporter": "python",
   "pygments_lexer": "ipython3",
   "version": "3.7.0"
  }
 },
 "nbformat": 4,
 "nbformat_minor": 2
}
